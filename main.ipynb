{
 "cells": [
  {
   "cell_type": "code",
   "execution_count": 1,
   "metadata": {},
   "outputs": [],
   "source": [
    "from mnist import MNIST\n",
    "import numpy as np\n",
    "import matplotlib.pyplot as plt\n",
    "%matplotlib inline\n",
    "import pylab as pl\n",
    "from PIL import Image\n",
    "import PIL.ImageOps"
   ]
  },
  {
   "cell_type": "code",
   "execution_count": 26,
   "metadata": {},
   "outputs": [],
   "source": [
    "mndata = MNIST('data')\n",
    "x_train, y_train = mndata.load('data\\\\emnist-byclass-train-images-idx3-ubyte',\n",
    "                               'data\\\\emnist-byclass-train-labels-idx1-ubyte')\n",
    "x_test, y_test = mndata.load('data\\\\emnist-byclass-test-images-idx3-ubyte',\n",
    "                             'data\\\\emnist-byclass-test-labels-idx1-ubyte')\n",
    "\n",
    "mapping = []\n",
    "with open('data/emnist-byclass-mapping.txt') as f:\n",
    "    for line in f:\n",
    "        mapping.append(chr(int(line.split()[1])))\n",
    "        "
   ]
  },
  {
   "cell_type": "code",
   "execution_count": null,
   "metadata": {},
   "outputs": [],
   "source": [
    "x_train = np.array(x_train)\n",
    "y_train = np.array(y_train)\n",
    "x_test = np.array(x_test)\n",
    "y_test = np.array(y_test)"
   ]
  },
  {
   "cell_type": "code",
   "execution_count": null,
   "metadata": {},
   "outputs": [],
   "source": [
    "print(x_train[1])"
   ]
  },
  {
   "cell_type": "code",
   "execution_count": 49,
   "metadata": {},
   "outputs": [
    {
     "ename": "TypeError",
     "evalue": "ufunc 'add' did not contain a loop with signature matching types dtype('<U11') dtype('<U11') dtype('<U11')",
     "output_type": "error",
     "traceback": [
      "\u001b[1;31m---------------------------------------------------------------------------\u001b[0m",
      "\u001b[1;31mTypeError\u001b[0m                                 Traceback (most recent call last)",
      "\u001b[1;32m<ipython-input-49-6ccddcea4f4b>\u001b[0m in \u001b[0;36m<module>\u001b[1;34m()\u001b[0m\n\u001b[0;32m      1\u001b[0m \u001b[0mxTrainFile\u001b[0m \u001b[1;33m=\u001b[0m \u001b[0mopen\u001b[0m\u001b[1;33m(\u001b[0m\u001b[1;34m\"x_train.txt\"\u001b[0m\u001b[1;33m,\u001b[0m\u001b[1;34m\"w\"\u001b[0m\u001b[1;33m)\u001b[0m\u001b[1;33m\u001b[0m\u001b[0m\n\u001b[0;32m      2\u001b[0m \u001b[1;32mfor\u001b[0m \u001b[0mi\u001b[0m \u001b[1;32min\u001b[0m \u001b[0mrange\u001b[0m \u001b[1;33m(\u001b[0m\u001b[1;36m1000\u001b[0m\u001b[1;33m)\u001b[0m\u001b[1;33m:\u001b[0m\u001b[1;33m\u001b[0m\u001b[0m\n\u001b[1;32m----> 3\u001b[1;33m     \u001b[0mxTrainFile\u001b[0m\u001b[1;33m.\u001b[0m\u001b[0mwrite\u001b[0m\u001b[1;33m(\u001b[0m\u001b[0mx_train\u001b[0m\u001b[1;33m[\u001b[0m\u001b[0mi\u001b[0m\u001b[1;33m]\u001b[0m \u001b[1;33m+\u001b[0m \u001b[1;34m\"\\n\"\u001b[0m\u001b[1;33m)\u001b[0m\u001b[1;33m\u001b[0m\u001b[0m\n\u001b[0m\u001b[0;32m      4\u001b[0m \u001b[0mxTrainFile\u001b[0m\u001b[1;33m.\u001b[0m\u001b[0mclose\u001b[0m\u001b[1;33m(\u001b[0m\u001b[1;33m)\u001b[0m\u001b[1;33m\u001b[0m\u001b[0m\n",
      "\u001b[1;31mTypeError\u001b[0m: ufunc 'add' did not contain a loop with signature matching types dtype('<U11') dtype('<U11') dtype('<U11')"
     ]
    }
   ],
   "source": [
    "xTrainFile = open(\"x_train.txt\",\"w\")\n",
    "for i in range (1000):\n",
    "    xTrainFile.write(x_train[i] + \"\\n\")\n",
    "xTrainFile.close()"
   ]
  },
  {
   "cell_type": "code",
   "execution_count": 48,
   "metadata": {},
   "outputs": [
    {
     "name": "stdout",
     "output_type": "stream",
     "text": [
      "11 B\n",
      "[(0, 0, 0, 0, 0, 0, 0, 0, 0, 0, 0, 0, 0, 0, 0, 0, 0, 0, 0, 0, 0, 0, 0, 0, 0, 0, 0, 0), (0, 0, 0, 0, 0, 0, 0, 0, 0, 0, 0, 0, 0, 0, 0, 0, 0, 0, 0, 0, 0, 0, 0, 0, 0, 0, 0, 0), (0, 0, 5, 37, 37, 37, 37, 32, 14, 32, 37, 37, 37, 37, 37, 37, 21, 2, 0, 0, 0, 0, 0, 0, 0, 0, 0, 0), (0, 0, 31, 212, 217, 217, 217, 204, 154, 204, 217, 217, 217, 217, 217, 215, 172, 77, 11, 2, 0, 0, 0, 0, 0, 0, 0, 0), (0, 0, 27, 238, 254, 252, 249, 222, 217, 217, 185, 205, 217, 217, 217, 217, 217, 242, 201, 63, 1, 0, 0, 0, 0, 0, 0, 0), (0, 2, 80, 251, 248, 179, 127, 51, 37, 37, 26, 33, 37, 37, 37, 37, 41, 221, 218, 40, 0, 0, 0, 0, 0, 0, 0, 0), (0, 2, 82, 252, 238, 96, 7, 0, 0, 0, 0, 0, 0, 0, 0, 0, 5, 186, 231, 80, 2, 0, 0, 0, 0, 0, 0, 0), (0, 2, 84, 252, 238, 94, 3, 0, 0, 0, 0, 0, 0, 0, 0, 10, 79, 224, 232, 80, 2, 0, 0, 0, 0, 0, 0, 0), (0, 4, 115, 254, 249, 124, 4, 0, 0, 0, 0, 0, 0, 3, 91, 207, 247, 250, 170, 21, 0, 0, 0, 0, 0, 0, 0, 0), (0, 3, 94, 253, 233, 82, 2, 0, 0, 0, 0, 8, 34, 84, 221, 253, 254, 189, 67, 2, 0, 0, 0, 0, 0, 0, 0, 0), (0, 2, 80, 251, 218, 40, 0, 0, 0, 0, 30, 126, 204, 233, 254, 255, 254, 148, 39, 9, 2, 0, 0, 0, 0, 0, 0, 0), (0, 0, 39, 239, 228, 69, 1, 0, 0, 0, 81, 230, 254, 254, 252, 233, 217, 214, 200, 133, 64, 1, 0, 0, 0, 0, 0, 0), (0, 0, 48, 249, 218, 42, 0, 0, 0, 0, 75, 201, 217, 204, 83, 22, 5, 21, 50, 109, 107, 31, 32, 21, 0, 0, 0, 0), (0, 0, 21, 234, 235, 125, 18, 0, 0, 0, 7, 32, 37, 32, 3, 0, 0, 0, 0, 4, 16, 59, 158, 164, 30, 0, 0, 0), (0, 0, 21, 233, 251, 169, 20, 0, 0, 0, 0, 0, 0, 0, 0, 0, 0, 0, 0, 0, 0, 7, 63, 216, 83, 3, 0, 0), (0, 0, 20, 231, 250, 130, 5, 0, 0, 0, 0, 0, 0, 0, 0, 0, 0, 0, 0, 0, 0, 0, 21, 169, 160, 22, 0, 0), (0, 0, 3, 185, 250, 160, 16, 0, 0, 0, 0, 0, 0, 0, 0, 0, 0, 0, 0, 0, 0, 0, 0, 41, 229, 112, 3, 0), (0, 0, 3, 200, 249, 174, 23, 0, 0, 0, 0, 0, 0, 0, 0, 0, 0, 0, 0, 0, 0, 0, 2, 80, 231, 84, 2, 0), (0, 0, 0, 83, 201, 225, 68, 0, 0, 0, 0, 0, 0, 0, 0, 0, 0, 0, 0, 0, 0, 0, 8, 107, 227, 71, 1, 0), (0, 0, 0, 18, 158, 214, 48, 0, 0, 0, 0, 0, 0, 0, 0, 0, 0, 0, 0, 0, 0, 3, 47, 197, 219, 48, 0, 0), (0, 0, 0, 0, 18, 31, 5, 0, 0, 8, 19, 1, 0, 0, 0, 0, 0, 0, 0, 0, 3, 91, 219, 253, 139, 9, 0, 0), (0, 0, 0, 0, 0, 0, 0, 0, 18, 121, 157, 47, 7, 0, 0, 0, 0, 4, 16, 27, 83, 211, 249, 244, 77, 2, 0, 0), (0, 0, 0, 0, 0, 0, 0, 0, 36, 210, 247, 207, 95, 39, 37, 37, 39, 115, 160, 184, 232, 253, 222, 127, 8, 0, 0, 0), (0, 0, 0, 0, 0, 0, 0, 0, 18, 127, 252, 253, 234, 217, 217, 217, 217, 245, 252, 252, 252, 230, 123, 12, 0, 0, 0, 0), (0, 0, 0, 0, 0, 0, 0, 0, 0, 19, 170, 216, 233, 249, 250, 249, 233, 217, 204, 139, 82, 21, 2, 0, 0, 0, 0, 0), (0, 0, 0, 0, 0, 0, 0, 0, 0, 0, 21, 38, 82, 125, 127, 125, 82, 37, 32, 9, 2, 0, 0, 0, 0, 0, 0, 0), (0, 0, 0, 0, 0, 0, 0, 0, 0, 0, 0, 0, 2, 4, 4, 4, 2, 0, 0, 0, 0, 0, 0, 0, 0, 0, 0, 0), (0, 0, 0, 0, 0, 0, 0, 0, 0, 0, 0, 0, 0, 0, 0, 0, 0, 0, 0, 0, 0, 0, 0, 0, 0, 0, 0, 0)]\n"
     ]
    },
    {
     "data": {
      "text/plain": [
       "<Figure size 432x288 with 0 Axes>"
      ]
     },
     "metadata": {},
     "output_type": "display_data"
    },
    {
     "data": {
      "image/png": "[encoded data removed]",
      "text/plain": [
       "<Figure size 288x288 with 1 Axes>"
      ]
     },
     "metadata": {},
     "output_type": "display_data"
    }
   ],
   "source": [
    "i = 563\n",
    "img1 = x_train[i]\n",
    "img = np.array(img1).reshape(28,28)\n",
    "\n",
    "print(y_train[i], mapping[y_train[i]])\n",
    "something = list(zip(*img))\n",
    "print(something)\n",
    "pl.gray()\n",
    "pl.matshow(something)\n",
    "pl.show()"
   ]
  },
  {
   "cell_type": "code",
   "execution_count": 27,
   "metadata": {},
   "outputs": [],
   "source": [
    "import random\n",
    "import math\n",
    "from sklearn import ensemble"
   ]
  },
  {
   "cell_type": "code",
   "execution_count": 46,
   "metadata": {},
   "outputs": [
    {
     "name": "stdout",
     "output_type": "stream",
     "text": [
      "Score: 0.8254171573979351\n"
     ]
    }
   ],
   "source": [
    "clf = ensemble.RandomForestClassifier(n_estimators=50, n_jobs=-1)\n",
    "clf.fit(x_train, y_train)\n",
    "\n",
    "score = clf.score(x_test, y_test)\n",
    "print(\"Score: \" + str(score))"
   ]
  },
  {
   "cell_type": "code",
   "execution_count": 44,
   "metadata": {},
   "outputs": [
    {
     "name": "stdout",
     "output_type": "stream",
     "text": [
      "[3]\n",
      "3 3\n"
     ]
    }
   ],
   "source": [
    "print(clf.predict(x_test[20].reshape(1,-1)))\n",
    "print(y_test[20], mapping[y_test[20]])"
   ]
  }
 ],
 "metadata": {
  "kernelspec": {
   "display_name": "Python 3",
   "language": "python",
   "name": "python3"
  },
  "language_info": {
   "codemirror_mode": {
    "name": "ipython",
    "version": 3
   },
   "file_extension": ".py",
   "mimetype": "text/x-python",
   "name": "python",
   "nbconvert_exporter": "python",
   "pygments_lexer": "ipython3",
   "version": "3.6.5"
  }
 },
 "nbformat": 4,
 "nbformat_minor": 2
}
